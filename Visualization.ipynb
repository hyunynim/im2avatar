{
 "cells": [
  {
   "cell_type": "code",
   "execution_count": 5,
   "metadata": {},
   "outputs": [
    {
     "data": {
      "application/vnd.jupyter.widget-view+json": {
       "model_id": "41eaae7130ac4a61b34acbf8245253b0",
       "version_major": 2,
       "version_minor": 0
      },
      "text/plain": [
       "VBox(children=(Figure(camera=PerspectiveCamera(fov=46.0, position=(0.0, 0.0, 2.0), quaternion=(0.0, 0.0, 0.0, …"
      ]
     },
     "metadata": {},
     "output_type": "display_data"
    }
   ],
   "source": [
    "import ipyvolume as ipv\n",
    "import h5py\n",
    "import numpy as np\n",
    "\n",
    "file_name = './model_normalized_64.h5'\n",
    "model = h5py.File(file_name, 'r')\n",
    "data = np.array(model['data'][:])\n",
    "X = data[:,:,:,0]\n",
    "#Y = data[:,:,:,1]\n",
    "#Z = data[:,:,:,2]\n",
    "\n",
    "fig = ipv.figure()\n",
    "ipv.volshow(X, controls=False, max_shape=64)\n",
    "ipv.volshow(Y, controls=False, max_shape=64)\n",
    "ipv.volshow(Z, controls=False, max_shape=64)\n",
    "ipv.show()"
   ]
  },
  {
   "cell_type": "code",
   "execution_count": null,
   "metadata": {},
   "outputs": [],
   "source": []
  }
 ],
 "metadata": {
  "kernelspec": {
   "display_name": "Python 3",
   "language": "python",
   "name": "python3"
  },
  "language_info": {
   "codemirror_mode": {
    "name": "ipython",
    "version": 3
   },
   "file_extension": ".py",
   "mimetype": "text/x-python",
   "name": "python",
   "nbconvert_exporter": "python",
   "pygments_lexer": "ipython3",
   "version": "3.7.3"
  }
 },
 "nbformat": 4,
 "nbformat_minor": 2
}
